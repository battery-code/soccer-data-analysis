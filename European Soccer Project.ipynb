{
 "cells": [
  {
   "cell_type": "markdown",
   "metadata": {},
   "source": [
    "\n",
    "# Data Analysis Project: European Soccer Project \n",
    "\n",
    "## Table of Contents\n",
    "<ul>\n",
    "<li><a href=\"#intro\">Introduction</a></li>\n",
    "<li><a href=\"#wrangling\">Data Wrangling</a></li>\n",
    "<li><a href=\"#eda\">Exploratory Data Analysis</a></li>\n",
    "</ul>"
   ]
  },
  {
   "cell_type": "markdown",
   "metadata": {},
   "source": [
    "<a id='intro'></a>\n",
    "## Introduction\n",
    "\n",
    "European Soccer dataset contains data of matches, teams and players from soccer leagues in Europe for the time period, 2008 to 2016. I have chosen to focus first on one club, Liverpool Football Club (LFC) which plays in the English Premier League and I am also curious about the performance characteristics of all the players in the database. "
   ]
  },
  {
   "cell_type": "code",
   "execution_count": 46,
   "metadata": {},
   "outputs": [],
   "source": [
    "# import statements \n",
    "import sqlite3\n",
    "import pandas as pd\n",
    "import numpy as np\n",
    "import matplotlib.pyplot as plt\n",
    "%matplotlib inline\n",
    "import seaborn as sns\n",
    "\n",
    "from sklearn import linear_model\n",
    "from sklearn.metrics import mean_absolute_percentage_error, r2_score\n"
   ]
  },
  {
   "cell_type": "markdown",
   "metadata": {},
   "source": [
    "<a id='wrangling'></a>\n",
    "## Data Wrangling\n",
    "\n",
    "Connecting with SQLite database and reading the SQL tables into Pandas Dataframes."
   ]
  },
  {
   "cell_type": "code",
   "execution_count": 14,
   "metadata": {},
   "outputs": [],
   "source": [
    "\n",
    "# Load data from SQLite database onto Pandas dataframes\n",
    "\n",
    "#open a connection with the SQLite database\n",
    "sqll_connect = sqlite3.connect('database.sqlite')\n",
    "#sqll_cursor = sqll_connect.cursor()\n",
    "\n",
    "#read the SQL tables and load them into Pandas dataframes\n",
    "match = pd.read_sql_query(\"SELECT * FROM Match\", sqll_connect)\n",
    "team = pd.read_sql_query(\"SELECT * FROM Team\", sqll_connect)\n",
    "team_att = pd.read_sql_query(\"SELECT * FROM Team_Attributes\", sqll_connect)\n",
    "#league = pd.read_sql_query(\"SELECT * FROM League\", sqll_connect)\n",
    "player = pd.read_sql_query(\"SELECT * FROM player\", sqll_connect)\n",
    "player_att = pd.read_sql_query(\"SELECT * FROM Player_Attributes\", sqll_connect)"
   ]
  },
  {
   "cell_type": "code",
   "execution_count": 6,
   "metadata": {
    "scrolled": true
   },
   "outputs": [
    {
     "data": {
      "text/html": [
       "<div>\n",
       "<style scoped>\n",
       "    .dataframe tbody tr th:only-of-type {\n",
       "        vertical-align: middle;\n",
       "    }\n",
       "\n",
       "    .dataframe tbody tr th {\n",
       "        vertical-align: top;\n",
       "    }\n",
       "\n",
       "    .dataframe thead th {\n",
       "        text-align: right;\n",
       "    }\n",
       "</style>\n",
       "<table border=\"1\" class=\"dataframe\">\n",
       "  <thead>\n",
       "    <tr style=\"text-align: right;\">\n",
       "      <th></th>\n",
       "      <th>id</th>\n",
       "      <th>team_api_id</th>\n",
       "      <th>team_fifa_api_id</th>\n",
       "      <th>team_long_name</th>\n",
       "      <th>team_short_name</th>\n",
       "    </tr>\n",
       "  </thead>\n",
       "  <tbody>\n",
       "    <tr>\n",
       "      <th>0</th>\n",
       "      <td>1</td>\n",
       "      <td>9987</td>\n",
       "      <td>673.0</td>\n",
       "      <td>KRC Genk</td>\n",
       "      <td>GEN</td>\n",
       "    </tr>\n",
       "    <tr>\n",
       "      <th>1</th>\n",
       "      <td>2</td>\n",
       "      <td>9993</td>\n",
       "      <td>675.0</td>\n",
       "      <td>Beerschot AC</td>\n",
       "      <td>BAC</td>\n",
       "    </tr>\n",
       "  </tbody>\n",
       "</table>\n",
       "</div>"
      ],
      "text/plain": [
       "   id  team_api_id  team_fifa_api_id team_long_name team_short_name\n",
       "0   1         9987             673.0       KRC Genk             GEN\n",
       "1   2         9993             675.0   Beerschot AC             BAC"
      ]
     },
     "execution_count": 6,
     "metadata": {},
     "output_type": "execute_result"
    }
   ],
   "source": [
    "#explore the dfs\n",
    "team.head(2)"
   ]
  },
  {
   "cell_type": "code",
   "execution_count": 7,
   "metadata": {},
   "outputs": [
    {
     "data": {
      "text/html": [
       "<div>\n",
       "<style scoped>\n",
       "    .dataframe tbody tr th:only-of-type {\n",
       "        vertical-align: middle;\n",
       "    }\n",
       "\n",
       "    .dataframe tbody tr th {\n",
       "        vertical-align: top;\n",
       "    }\n",
       "\n",
       "    .dataframe thead th {\n",
       "        text-align: right;\n",
       "    }\n",
       "</style>\n",
       "<table border=\"1\" class=\"dataframe\">\n",
       "  <thead>\n",
       "    <tr style=\"text-align: right;\">\n",
       "      <th></th>\n",
       "      <th>id</th>\n",
       "      <th>country_id</th>\n",
       "      <th>name</th>\n",
       "    </tr>\n",
       "  </thead>\n",
       "  <tbody>\n",
       "    <tr>\n",
       "      <th>0</th>\n",
       "      <td>1</td>\n",
       "      <td>1</td>\n",
       "      <td>Belgium Jupiler League</td>\n",
       "    </tr>\n",
       "    <tr>\n",
       "      <th>1</th>\n",
       "      <td>1729</td>\n",
       "      <td>1729</td>\n",
       "      <td>England Premier League</td>\n",
       "    </tr>\n",
       "  </tbody>\n",
       "</table>\n",
       "</div>"
      ],
      "text/plain": [
       "     id  country_id                    name\n",
       "0     1           1  Belgium Jupiler League\n",
       "1  1729        1729  England Premier League"
      ]
     },
     "execution_count": 7,
     "metadata": {},
     "output_type": "execute_result"
    }
   ],
   "source": [
    "#explore the dfs\n",
    "league.head(2)"
   ]
  },
  {
   "cell_type": "code",
   "execution_count": 8,
   "metadata": {
    "scrolled": true
   },
   "outputs": [
    {
     "data": {
      "text/html": [
       "<div>\n",
       "<style scoped>\n",
       "    .dataframe tbody tr th:only-of-type {\n",
       "        vertical-align: middle;\n",
       "    }\n",
       "\n",
       "    .dataframe tbody tr th {\n",
       "        vertical-align: top;\n",
       "    }\n",
       "\n",
       "    .dataframe thead th {\n",
       "        text-align: right;\n",
       "    }\n",
       "</style>\n",
       "<table border=\"1\" class=\"dataframe\">\n",
       "  <thead>\n",
       "    <tr style=\"text-align: right;\">\n",
       "      <th></th>\n",
       "      <th>id</th>\n",
       "      <th>country_id</th>\n",
       "      <th>league_id</th>\n",
       "      <th>season</th>\n",
       "      <th>stage</th>\n",
       "      <th>date</th>\n",
       "      <th>match_api_id</th>\n",
       "      <th>home_team_api_id</th>\n",
       "      <th>away_team_api_id</th>\n",
       "      <th>home_team_goal</th>\n",
       "      <th>...</th>\n",
       "      <th>SJA</th>\n",
       "      <th>VCH</th>\n",
       "      <th>VCD</th>\n",
       "      <th>VCA</th>\n",
       "      <th>GBH</th>\n",
       "      <th>GBD</th>\n",
       "      <th>GBA</th>\n",
       "      <th>BSH</th>\n",
       "      <th>BSD</th>\n",
       "      <th>BSA</th>\n",
       "    </tr>\n",
       "  </thead>\n",
       "  <tbody>\n",
       "    <tr>\n",
       "      <th>0</th>\n",
       "      <td>1</td>\n",
       "      <td>1</td>\n",
       "      <td>1</td>\n",
       "      <td>2008/2009</td>\n",
       "      <td>1</td>\n",
       "      <td>2008-08-17 00:00:00</td>\n",
       "      <td>492473</td>\n",
       "      <td>9987</td>\n",
       "      <td>9993</td>\n",
       "      <td>1</td>\n",
       "      <td>...</td>\n",
       "      <td>4.0</td>\n",
       "      <td>1.65</td>\n",
       "      <td>3.4</td>\n",
       "      <td>4.5</td>\n",
       "      <td>1.78</td>\n",
       "      <td>3.25</td>\n",
       "      <td>4.0</td>\n",
       "      <td>1.73</td>\n",
       "      <td>3.4</td>\n",
       "      <td>4.2</td>\n",
       "    </tr>\n",
       "  </tbody>\n",
       "</table>\n",
       "<p>1 rows × 115 columns</p>\n",
       "</div>"
      ],
      "text/plain": [
       "   id  country_id  league_id     season  stage                 date  \\\n",
       "0   1           1          1  2008/2009      1  2008-08-17 00:00:00   \n",
       "\n",
       "   match_api_id  home_team_api_id  away_team_api_id  home_team_goal  ...  SJA  \\\n",
       "0        492473              9987              9993               1  ...  4.0   \n",
       "\n",
       "    VCH  VCD  VCA   GBH   GBD  GBA   BSH  BSD  BSA  \n",
       "0  1.65  3.4  4.5  1.78  3.25  4.0  1.73  3.4  4.2  \n",
       "\n",
       "[1 rows x 115 columns]"
      ]
     },
     "execution_count": 8,
     "metadata": {},
     "output_type": "execute_result"
    }
   ],
   "source": [
    "match.head(1)"
   ]
  },
  {
   "cell_type": "code",
   "execution_count": 52,
   "metadata": {},
   "outputs": [
    {
     "data": {
      "text/plain": [
       "(25979, 115)"
      ]
     },
     "execution_count": 52,
     "metadata": {},
     "output_type": "execute_result"
    }
   ],
   "source": [
    "match.shape"
   ]
  },
  {
   "cell_type": "code",
   "execution_count": 16,
   "metadata": {},
   "outputs": [],
   "source": [
    "#data check\n",
    "#pd.set_option('display.max_rows', None)  # or 1000\n",
    "#match.isnull().sum()\n",
    "#match.isna().sum()"
   ]
  },
  {
   "cell_type": "code",
   "execution_count": 14,
   "metadata": {},
   "outputs": [
    {
     "data": {
      "text/plain": [
       "0"
      ]
     },
     "execution_count": 14,
     "metadata": {},
     "output_type": "execute_result"
    }
   ],
   "source": [
    "match.duplicated().sum()"
   ]
  },
  {
   "cell_type": "code",
   "execution_count": 62,
   "metadata": {},
   "outputs": [
    {
     "data": {
      "text/plain": [
       "(3040, 115)"
      ]
     },
     "execution_count": 62,
     "metadata": {},
     "output_type": "execute_result"
    }
   ],
   "source": [
    "#create a new dataframe with only data from English premier league\n",
    "epl_matches = match[match['league_id'] == 1729]\n",
    "epl_matches.shape"
   ]
  },
  {
   "cell_type": "code",
   "execution_count": 63,
   "metadata": {},
   "outputs": [
    {
     "data": {
      "text/plain": [
       "Index(['id', 'country_id', 'league_id', 'season', 'stage', 'date',\n",
       "       'match_api_id', 'home_team_api_id', 'away_team_api_id',\n",
       "       'home_team_goal',\n",
       "       ...\n",
       "       'SJA', 'VCH', 'VCD', 'VCA', 'GBH', 'GBD', 'GBA', 'BSH', 'BSD', 'BSA'],\n",
       "      dtype='object', length=115)"
      ]
     },
     "execution_count": 63,
     "metadata": {},
     "output_type": "execute_result"
    }
   ],
   "source": [
    "#explore the columns of the new dataframe\n",
    "epl_matches.columns"
   ]
  },
  {
   "cell_type": "code",
   "execution_count": 65,
   "metadata": {},
   "outputs": [],
   "source": [
    "#drop columns that will not be used in project\n",
    "''' Columns dropped:\n",
    "1) Columns with the position of each player;(x,y) coordinates\n",
    "2) XML data on fouls, cards, crosses, corners, possession\n",
    "3) Columns with betting odds from different sports betting platforms llike bet365.com\n",
    "4) Country id and league id are redundant data'''\n",
    "\n",
    "# 1) drop columns (index 11 to 54) with data on the position of each player;(x,y) coordinates\n",
    "epl_matches.drop(epl_matches.columns[11:55], axis = 1, inplace = True)"
   ]
  },
  {
   "cell_type": "code",
   "execution_count": 66,
   "metadata": {},
   "outputs": [],
   "source": [
    "# 2) drop data on betting odds for the game from different betting platforms\n",
    "epl_matches.drop(epl_matches.loc[:,'B365H':].columns, axis = 1, inplace = True)"
   ]
  },
  {
   "cell_type": "code",
   "execution_count": 67,
   "metadata": {},
   "outputs": [],
   "source": [
    "# 3) xml data provided are not relevant to the analysis and hence dropped\n",
    "epl_matches.drop(epl_matches.loc[:,'goal':].columns, axis = 1, inplace = True)"
   ]
  },
  {
   "cell_type": "code",
   "execution_count": 68,
   "metadata": {},
   "outputs": [],
   "source": [
    "# 4) dropping country and league columns since EPL is limited to United Kingdom\n",
    "epl_matches.drop(['country_id','league_id'], axis = 1, inplace = True) "
   ]
  },
  {
   "cell_type": "code",
   "execution_count": 69,
   "metadata": {},
   "outputs": [
    {
     "data": {
      "text/plain": [
       "(3040, 31)"
      ]
     },
     "execution_count": 69,
     "metadata": {},
     "output_type": "execute_result"
    }
   ],
   "source": [
    "epl_matches.shape"
   ]
  },
  {
   "cell_type": "code",
   "execution_count": 1,
   "metadata": {},
   "outputs": [],
   "source": [
    "#checking for missing values in columns\n",
    "#epl_matches.info() "
   ]
  },
  {
   "cell_type": "code",
   "execution_count": 72,
   "metadata": {
    "scrolled": true
   },
   "outputs": [],
   "source": [
    "#create a new dataframe with only Liverpool club's data\n",
    "lfc_matches = epl_matches.query('home_team_api_id == 8650 or away_team_api_id == 8650')"
   ]
  },
  {
   "cell_type": "markdown",
   "metadata": {},
   "source": [
    "<a id='eda'></a>\n",
    "## Exploratory Data Analysis \n",
    "\n",
    "I would like to analyse the performance of Liverpool each season against other teams. \n",
    "\n",
    "The match dataframe contains information of only the goals scored in each match and does not indicate which team won nor the points scored by each team. Hence this information is needed to be derived from the available data to answer below exploratory questions.\n",
    "\n",
    "#### Setting the Baseline : \n",
    "<b> \n",
    "What was Liverpool's performance each season?  \n",
    "</b>"
   ]
  },
  {
   "cell_type": "markdown",
   "metadata": {},
   "source": [
    "#### Scoring System :\n",
    "In the English Premier League, each team gets 3 points for winning a game, 1 point for a tie and 0 points for loss. The points are then totaled at the season to determine the winner of the league for that season. \n",
    "\n",
    "The data available only has information of the goals scored by each team in each match. The result of each game and the points scored by each team has to be derived from the available data. "
   ]
  },
  {
   "cell_type": "code",
   "execution_count": null,
   "metadata": {},
   "outputs": [],
   "source": [
    "# Derive the result of each game for the home team from the goals scored as win, loss or tie.\n",
    "epl_matches['home_team_result'] = np.where(epl_matches.home_team_goal == epl_matches.away_team_goal, 'tie',    \n",
    "                                     np.where(epl_matches.home_team_goal > epl_matches.away_team_goal,'win', 'loss'))\n",
    "\n",
    "# Derive the points achieved by the home team based on the results\n",
    "epl_matches['home_team_points'] = np.where(epl_matches.home_team_result == 'win', 3,\n",
    "                                          np.where(epl_matches.home_team_result == 'tie', 1, 0))\n",
    "\n",
    "# merge with team dataframe to add the team name and remove/rename columns as needed\n",
    "epl_matches = epl_matches.merge(team[['team_api_id','team_long_name']],left_on='home_team_api_id',right_on='team_api_id')\n",
    "epl_matches.drop(['team_api_id'], axis = 1, inplace = True)\n",
    "epl_matches.rename(columns={\"team_long_name\":\"home_team_name\"}, inplace=True)"
   ]
  },
  {
   "cell_type": "code",
   "execution_count": 74,
   "metadata": {},
   "outputs": [],
   "source": [
    "# Derive the result of each game for the away team from the goals scored as win, loss or tie.\n",
    "epl_matches['away_team_result'] = np.where(epl_matches.away_team_goal == epl_matches.home_team_goal, 'tie',    \n",
    "                                     np.where(epl_matches.away_team_goal > epl_matches.home_team_goal,'win', 'loss'))\n",
    "\n",
    "epl_matches['away_team_points'] = np.where(epl_matches.away_team_result == 'win', 3,\n",
    "                                          np.where(epl_matches.away_team_result == 'tie', 1, 0))\n",
    "\n",
    "epl_matches = epl_matches.merge(team[['team_api_id','team_long_name']],left_on='away_team_api_id',right_on='team_api_id')\n",
    "epl_matches.drop(['team_api_id'], axis = 1, inplace = True)\n",
    "epl_matches.rename(columns={\"team_long_name\":\"away_team_name\"}, inplace=True)"
   ]
  },
  {
   "cell_type": "markdown",
   "metadata": {},
   "source": [
    "#### Liverpool Football Club Data"
   ]
  },
  {
   "cell_type": "code",
   "execution_count": 80,
   "metadata": {
    "scrolled": true
   },
   "outputs": [],
   "source": [
    "# classify each match as tie, win or loss for LFC\n",
    "# logic used is to first check if the match was a tie and if not identify the wins by checking if Liverpool won as home team or away team and if not mark as loss since it is the only other possible result\n",
    "# why np.where? reference: https://stackoverflow.com/questions/27041724/using-conditional-to-generate-new-column-in-pandas-dataframe\n",
    "lfc_matches['result'] = np.where(lfc_matches.home_team_goal == lfc_matches.away_team_goal, 'tie',    \n",
    "                                     np.where((lfc_matches.home_team_api_id == 8650) & (lfc_matches.home_team_goal > lfc_matches.away_team_goal),'win', \n",
    "                                              np.where((lfc_matches.away_team_api_id == 8650) & (lfc_matches.away_team_goal > lfc_matches.home_team_goal),'win','loss'))) "
   ]
  },
  {
   "cell_type": "code",
   "execution_count": 83,
   "metadata": {
    "scrolled": true
   },
   "outputs": [
    {
     "data": {
      "image/png": "[encoded data removed]",
      "text/plain": [
       "<Figure size 1008x288 with 1 Axes>"
      ]
     },
     "metadata": {
      "needs_background": "light"
     },
     "output_type": "display_data"
    }
   ],
   "source": [
    "#plot results grouped by season\n",
    "lfc_matches.groupby(['season','result'])['season'].count().unstack('result').plot(kind='bar',figsize=(14,4), color = ['darkred','orange','green'])\n",
    "plt.title('Performance comparison by season')\n",
    "plt.xlabel('Season')\n",
    "plt.ylabel('Number of matches')\n",
    "plt.legend(bbox_to_anchor=(1.05, 1), loc='upper left', borderaxespad=0.);"
   ]
  },
  {
   "cell_type": "code",
   "execution_count": 84,
   "metadata": {},
   "outputs": [
    {
     "data": {
      "text/html": [
       "<div>\n",
       "<style scoped>\n",
       "    .dataframe tbody tr th:only-of-type {\n",
       "        vertical-align: middle;\n",
       "    }\n",
       "\n",
       "    .dataframe tbody tr th {\n",
       "        vertical-align: top;\n",
       "    }\n",
       "\n",
       "    .dataframe thead th {\n",
       "        text-align: right;\n",
       "    }\n",
       "</style>\n",
       "<table border=\"1\" class=\"dataframe\">\n",
       "  <thead>\n",
       "    <tr style=\"text-align: right;\">\n",
       "      <th>season</th>\n",
       "      <th>2008/2009</th>\n",
       "      <th>2009/2010</th>\n",
       "      <th>2010/2011</th>\n",
       "      <th>2011/2012</th>\n",
       "      <th>2012/2013</th>\n",
       "      <th>2013/2014</th>\n",
       "      <th>2014/2015</th>\n",
       "      <th>2015/2016</th>\n",
       "    </tr>\n",
       "    <tr>\n",
       "      <th>result</th>\n",
       "      <th></th>\n",
       "      <th></th>\n",
       "      <th></th>\n",
       "      <th></th>\n",
       "      <th></th>\n",
       "      <th></th>\n",
       "      <th></th>\n",
       "      <th></th>\n",
       "    </tr>\n",
       "  </thead>\n",
       "  <tbody>\n",
       "    <tr>\n",
       "      <th>loss</th>\n",
       "      <td>2</td>\n",
       "      <td>11</td>\n",
       "      <td>14</td>\n",
       "      <td>14</td>\n",
       "      <td>9</td>\n",
       "      <td>6</td>\n",
       "      <td>12</td>\n",
       "      <td>10</td>\n",
       "    </tr>\n",
       "    <tr>\n",
       "      <th>tie</th>\n",
       "      <td>11</td>\n",
       "      <td>9</td>\n",
       "      <td>7</td>\n",
       "      <td>10</td>\n",
       "      <td>13</td>\n",
       "      <td>6</td>\n",
       "      <td>8</td>\n",
       "      <td>12</td>\n",
       "    </tr>\n",
       "    <tr>\n",
       "      <th>win</th>\n",
       "      <td>25</td>\n",
       "      <td>18</td>\n",
       "      <td>17</td>\n",
       "      <td>14</td>\n",
       "      <td>16</td>\n",
       "      <td>26</td>\n",
       "      <td>18</td>\n",
       "      <td>16</td>\n",
       "    </tr>\n",
       "  </tbody>\n",
       "</table>\n",
       "</div>"
      ],
      "text/plain": [
       "season  2008/2009  2009/2010  2010/2011  2011/2012  2012/2013  2013/2014  \\\n",
       "result                                                                     \n",
       "loss            2         11         14         14          9          6   \n",
       "tie            11          9          7         10         13          6   \n",
       "win            25         18         17         14         16         26   \n",
       "\n",
       "season  2014/2015  2015/2016  \n",
       "result                        \n",
       "loss           12         10  \n",
       "tie             8         12  \n",
       "win            18         16  "
      ]
     },
     "execution_count": 84,
     "metadata": {},
     "output_type": "execute_result"
    }
   ],
   "source": [
    "# tabulate the results to view the results in different formats for exploration\n",
    "lfc_matches.groupby(['season'])['result'].value_counts().unstack().transpose()"
   ]
  },
  {
   "cell_type": "markdown",
   "metadata": {},
   "source": [
    "<a id='q1'></a>\n",
    "### Loss Analysis\n",
    "With the goal to improve the performance of the team, one place to look for patterns is to review all the matches in which the team lost to gain insights and reduce the number of losses in future.\n",
    " "
   ]
  },
  {
   "cell_type": "code",
   "execution_count": 86,
   "metadata": {
    "scrolled": true
   },
   "outputs": [],
   "source": [
    "# Creating a new column to identify the opposition team ids. \n",
    "lfc_matches['opposition_team_api_id'] = np.where((lfc_matches.home_team_api_id == 8650),lfc_matches.away_team_api_id,lfc_matches.home_team_api_id)\n",
    "#opposition team names are obtained by merging with team dataframe\n",
    "lfc_matches = lfc_matches.merge(team[['team_api_id','team_long_name']],left_on='opposition_team_api_id',right_on='team_api_id')"
   ]
  },
  {
   "cell_type": "code",
   "execution_count": 87,
   "metadata": {},
   "outputs": [],
   "source": [
    "#dropping the redundant team_api_id column added during merge\n",
    "lfc_matches.drop(['team_api_id'], axis = 1, inplace = True)\n",
    "#renaming column\n",
    "lfc_matches.rename(columns={\"team_long_name\":\"opposition_team_name\"}, inplace=True)"
   ]
  },
  {
   "cell_type": "code",
   "execution_count": 9,
   "metadata": {},
   "outputs": [],
   "source": [
    "#lfc_matches.info()"
   ]
  },
  {
   "cell_type": "code",
   "execution_count": 10,
   "metadata": {
    "scrolled": true
   },
   "outputs": [],
   "source": [
    "#verify the data\n",
    "lfc_matches[['home_team_api_id','away_team_api_id','opposition_team_api_id','opposition_team_name']]"
   ]
  },
  {
   "cell_type": "code",
   "execution_count": 90,
   "metadata": {},
   "outputs": [],
   "source": [
    "# create dataframe with list of opposition team names and count of losses\n",
    "lfc_losses = lfc_matches[lfc_matches['result'] == 'loss'].groupby(['opposition_team_name'])['opposition_team_name'].count().sort_values(ascending=False).reset_index(name='loss_count')"
   ]
  },
  {
   "cell_type": "code",
   "execution_count": 11,
   "metadata": {},
   "outputs": [],
   "source": [
    "#lfc_losses.head(10)"
   ]
  },
  {
   "cell_type": "code",
   "execution_count": 93,
   "metadata": {
    "scrolled": true
   },
   "outputs": [
    {
     "data": {
      "text/plain": [
       "''"
      ]
     },
     "execution_count": 93,
     "metadata": {},
     "output_type": "execute_result"
    },
    {
     "data": {
      "image/png": "[encoded data removed]",
      "text/plain": [
       "<Figure size 432x288 with 1 Axes>"
      ]
     },
     "metadata": {
      "needs_background": "light"
     },
     "output_type": "display_data"
    }
   ],
   "source": [
    "# visualizing the data\n",
    "#create colorlist for barchart\n",
    "my_colors = ['k','b','g','c','m']\n",
    "\n",
    "#plotting the top quantile\n",
    "lfc_losses[lfc_losses['loss_count'] >= lfc_losses['loss_count'].quantile(.75)].plot('opposition_team_name','loss_count',kind='bar',color=my_colors)\n",
    "plt.title('Most losses(2008-16) - Opposition team')\n",
    "plt.xlabel('Team Name')\n",
    "plt.ylabel('Number of matches')\n",
    ";\n"
   ]
  },
  {
   "cell_type": "markdown",
   "metadata": {},
   "source": [
    "<h4> <u> Inference: </u> </h4>\n",
    "\n",
    "Manchester United is the team Liverpool has lost the most in the 8 seasons with the total count of 9 matches.\n",
    "Additional focus to the teams identified will assist the club to perform better in the subsequent seasons. \n"
   ]
  }
 ],
 "metadata": {
  "kernelspec": {
   "display_name": "Python 3",
   "language": "python",
   "name": "python3"
  },
  "language_info": {
   "codemirror_mode": {
    "name": "ipython",
    "version": 3
   },
   "file_extension": ".py",
   "mimetype": "text/x-python",
   "name": "python",
   "nbconvert_exporter": "python",
   "pygments_lexer": "ipython3",
   "version": "3.7.6"
  }
 },
 "nbformat": 4,
 "nbformat_minor": 2
}
